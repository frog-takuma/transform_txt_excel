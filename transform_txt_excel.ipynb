{
 "cells": [
  {
   "cell_type": "code",
   "execution_count": 1,
   "metadata": {},
   "outputs": [],
   "source": [
    "import os\n",
    "import sys\n",
    "import openpyxl"
   ]
  },
  {
   "cell_type": "code",
   "execution_count": 7,
   "metadata": {},
   "outputs": [
    {
     "name": "stdout",
     "output_type": "stream",
     "text": [
      "<openpyxl.workbook.workbook.Workbook object at 0x0000029645FC9508>\n"
     ]
    }
   ],
   "source": [
    "def txt2xlsx(input_folder):\n",
    "\n",
    "    # フォルダ内のテキストファイルを探す\n",
    "    col = 1\n",
    "    for file_name in os.listdir(input_folder):\n",
    "        \n",
    "        wb = openpyxl.Workbook()\n",
    "        sheet = wb.active\n",
    "\n",
    "        if not file_name.lower().endswith(\".txt\"):\n",
    "            continue\n",
    "\n",
    "        with open(\n",
    "            os.path.join(input_folder, file_name), \"r\", encoding=\"utf-8\"\n",
    "        ) as text_file:\n",
    "\n",
    "            # シートの列ごとにテキストファイルの内容を書き込む\n",
    "            \n",
    "            for row, text in enumerate(text_file):\n",
    "                \n",
    "                try:\n",
    "                    #print(float(text.strip().split(\",\")[2]))\n",
    "                    #print(text.strip().split(\",\")[1])\n",
    "                    sheet.cell(column=1, row=row + 1).value = int(text.strip().split(\",\")[0]) #テキストファイルの1列を”,”ごとに区切って1個目の区間を入力\n",
    "                    sheet.cell(column=2, row=row + 1).value = (text.strip().split(\",\")[1]) \n",
    "                    sheet.cell(column=3, row=row + 1).value = float(text.strip().split(\",\")[2])\n",
    "                    sheet.cell(column=4, row=row + 1).value = (text.strip().split(\",\")[3])\n",
    "\n",
    "                except:\n",
    "                    pass\n",
    "            print(wb)\n",
    "            wb.save(\"xlsx/{}.xlsx\".format(file_name.split(\".\")[0]))\n",
    "\n",
    "txt2xlsx(\"txt\")"
   ]
  }
 ],
 "metadata": {
  "kernelspec": {
   "display_name": "Python 3.7.5 64-bit",
   "language": "python",
   "name": "python3"
  },
  "language_info": {
   "codemirror_mode": {
    "name": "ipython",
    "version": 3
   },
   "file_extension": ".py",
   "mimetype": "text/x-python",
   "name": "python",
   "nbconvert_exporter": "python",
   "pygments_lexer": "ipython3",
   "version": "3.7.5"
  },
  "orig_nbformat": 4,
  "vscode": {
   "interpreter": {
    "hash": "b26c57484f2fda36466914b9c4afd827927cf5425464b6e25238e95832a5592e"
   }
  }
 },
 "nbformat": 4,
 "nbformat_minor": 2
}
